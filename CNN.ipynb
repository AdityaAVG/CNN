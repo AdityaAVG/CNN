{
  "nbformat": 4,
  "nbformat_minor": 0,
  "metadata": {
    "colab": {
      "provenance": [],
      "authorship_tag": "ABX9TyPC+Goyx/WHdbzHuvZZTVZM",
      "include_colab_link": true
    },
    "kernelspec": {
      "name": "python3",
      "display_name": "Python 3"
    },
    "language_info": {
      "name": "python"
    }
  },
  "cells": [
    {
      "cell_type": "markdown",
      "metadata": {
        "id": "view-in-github",
        "colab_type": "text"
      },
      "source": [
        "<a href=\"https://colab.research.google.com/github/AdityaAVG/CNN/blob/main/CNN.ipynb\" target=\"_parent\"><img src=\"https://colab.research.google.com/assets/colab-badge.svg\" alt=\"Open In Colab\"/></a>"
      ]
    },
    {
      "cell_type": "code",
      "execution_count": null,
      "metadata": {
        "id": "WrH3hfm3GvLY"
      },
      "outputs": [],
      "source": [
        "import torch.nn\n",
        "import torch.nn.functional as F\n",
        "from torchvision import datasets, transforms\n",
        "import matplotlib.pyplot as plt\n",
        "import numpy as np"
      ]
    },
    {
      "cell_type": "code",
      "source": [
        "device=torch.device(\"cuda\" if torch.cuda.is_available() else \"cpu\")\n",
        "print(device)"
      ],
      "metadata": {
        "colab": {
          "base_uri": "https://localhost:8080/"
        },
        "id": "M10msZpJHIrd",
        "outputId": "1934ac84-536a-41d6-d23a-103f99d7c1b5"
      },
      "execution_count": null,
      "outputs": [
        {
          "output_type": "stream",
          "name": "stdout",
          "text": [
            "cpu\n"
          ]
        }
      ]
    },
    {
      "cell_type": "code",
      "source": [
        "#Image transformations  # This function basically converts image data into tensors that model can easily understand .\n",
        "transform = transforms.Compose([\n",
        "    transforms.ToTensor(),\n",
        "    transforms.Normalize((0.5,), (0.5,))  #0.5 means mean and std of 0.5\n",
        "])"
      ],
      "metadata": {
        "id": "UZWPBmI4HOzk"
      },
      "execution_count": null,
      "outputs": []
    },
    {
      "cell_type": "code",
      "source": [
        "trainset=datasets.MNIST('MNIST_data/',download=True,train=True,transform=transform) # transform is converting image into tensors .\n",
        "testset=datasets.MNIST('MNIST_data/',download=True,train=False,transform=transform)"
      ],
      "metadata": {
        "id": "pEEXuzGiHvnr"
      },
      "execution_count": null,
      "outputs": []
    },
    {
      "cell_type": "code",
      "source": [
        "trainloader = torch.utils.data.DataLoader(trainset,batch_size=64,shuffle=True) #Shuffle ensures that data is shuffled at every epoch.\n",
        "testloader=torch.utils.data.DataLoader(testset,batch_size=64,shuffle=True)"
      ],
      "metadata": {
        "id": "xH9TuCpFIPuE"
      },
      "execution_count": null,
      "outputs": []
    },
    {
      "cell_type": "code",
      "source": [
        "# Building  the neural network\n",
        "\n",
        "class Net(torch.nn.Module):\n",
        "    def __init__(self):\n",
        "      super(Net,self).__init__()  #Inheriting the parent class and initializing it.\n",
        "      self.conv1=torch.nn.Conv2d(1,32,3,1) #No. of input channels, output channels ,size of filter and stride\n",
        "      self.conv2=torch.nn.Conv2d(32,64,3,1) #Because the last layers output is 32 its input will be 32\n",
        "      self.dropout=torch.nn.Dropout(0.20)\n",
        "      self.fc1=torch.nn.Linear(64*5*5,128) #128 is the output here and the first one is input\n",
        "      self.fc2=torch.nn.Linear(128,10)#We are taking 10 as output because the dataset has images of numbers till 9\n",
        "\n",
        "    def forward(self,x):  # self is calling our model   # There is a pattern to observe here .\n",
        "      x=self.conv1(x)\n",
        "      x=F.relu(x)\n",
        "      x=F.max_pool2d(x,2) #pooling\n",
        "      x=self.conv2(x)\n",
        "      x=F.relu(x)\n",
        "      x=F.max_pool2d(x,2)\n",
        "      x=self.dropout(x)\n",
        "\n",
        "      x=torch.flatten(x,1)\n",
        "      x=self.fc1(x)\n",
        "      x=F.relu(x)\n",
        "      x=self.fc2(x)\n",
        "      x=F.log_softmax(x,dim=1) #gives the probability\n",
        "      output=x\n",
        "      return output"
      ],
      "metadata": {
        "id": "fyX6cuGcIT4f"
      },
      "execution_count": null,
      "outputs": []
    },
    {
      "cell_type": "code",
      "source": [
        "model=Net().to(device)\n",
        "\n",
        "criterion = torch.nn.CrossEntropyLoss()\n",
        "optimizer = torch.optim.Adam(model.parameters())"
      ],
      "metadata": {
        "id": "MAbhA-QoIT_V"
      },
      "execution_count": null,
      "outputs": []
    },
    {
      "cell_type": "code",
      "source": [
        "for epoch in range(5):\n",
        "  running_loss=0.0\n",
        "  for images,labels in trainloader:\n",
        "    images,labels=images.to(device),labels.to(device)\n",
        "    outputs=model(images) #forward pass\n",
        "    loss=criterion(outputs,labels)\n",
        "\n",
        "    optimizer.zero_grad()\n",
        "\n",
        "    loss.backward()\n",
        "    optimizer.step() #Updates the model para\n",
        "\n",
        "    running_loss+=loss.item()\n",
        "\n",
        "  print(\"Epoch {} - Training loss: {}\".format(epoch+1,running_loss/len(trainloader)))"
      ],
      "metadata": {
        "colab": {
          "base_uri": "https://localhost:8080/"
        },
        "id": "LGSXSZJXIUEk",
        "outputId": "063782d3-4ff3-44bc-b1db-3978940ba4e0"
      },
      "execution_count": null,
      "outputs": [
        {
          "output_type": "stream",
          "name": "stdout",
          "text": [
            "Epoch 1 - Training loss: 0.1561893588219926\n",
            "Epoch 2 - Training loss: 0.05163179286137553\n",
            "Epoch 3 - Training loss: 0.038025092220832175\n",
            "Epoch 4 - Training loss: 0.028907999179472697\n",
            "Epoch 5 - Training loss: 0.02465875660296905\n"
          ]
        }
      ]
    },
    {
      "cell_type": "code",
      "source": [
        "correct=0\n",
        "total=0\n",
        "with torch.no_grad():\n",
        "  for images,labels in testloader:\n",
        "    images,labels=images.to(device),labels.to(device)\n",
        "    outputs=model(images)\n",
        "    _,predicted=torch.max(outputs,1)\n",
        "    total += labels.size(0)\n",
        "    correct += (predicted == labels).sum().item()\n",
        "\n",
        "print('Accuracy of the network on the 10000 test images: %d %%' % (\n",
        "    100 * correct / total))\n"
      ],
      "metadata": {
        "colab": {
          "base_uri": "https://localhost:8080/"
        },
        "id": "xlkdNMWyIUJe",
        "outputId": "3cf62cfe-40fc-4143-a5fd-4b5ac9e3db84"
      },
      "execution_count": null,
      "outputs": [
        {
          "output_type": "stream",
          "name": "stdout",
          "text": [
            "Accuracy of the network on the 10000 test images: 99 %\n"
          ]
        }
      ]
    },
    {
      "cell_type": "code",
      "source": [],
      "metadata": {
        "id": "zujiU4JsIUQM"
      },
      "execution_count": null,
      "outputs": []
    },
    {
      "cell_type": "code",
      "source": [],
      "metadata": {
        "id": "4q7SxtE7IUV0"
      },
      "execution_count": null,
      "outputs": []
    },
    {
      "cell_type": "code",
      "source": [],
      "metadata": {
        "id": "VvLSx2oUIUbl"
      },
      "execution_count": null,
      "outputs": []
    },
    {
      "cell_type": "code",
      "source": [],
      "metadata": {
        "id": "Cok8o3-fIUgm"
      },
      "execution_count": null,
      "outputs": []
    }
  ]
}